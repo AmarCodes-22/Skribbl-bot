{
  "nbformat": 4,
  "nbformat_minor": 0,
  "metadata": {
    "colab": {
      "name": "Quickdraw Version Generation.ipynb",
      "provenance": [],
      "collapsed_sections": []
    },
    "kernelspec": {
      "name": "python3",
      "display_name": "Python 3"
    },
    "language_info": {
      "name": "python"
    }
  },
  "cells": [
    {
      "cell_type": "markdown",
      "source": [
        "# Setup\n",
        "We need to setup Kaggle API and install the required libraries."
      ],
      "metadata": {
        "id": "bGSktirtPdn7"
      }
    },
    {
      "cell_type": "code",
      "source": [
        "from google.colab import drive\n",
        "drive.mount('/content/drive')"
      ],
      "metadata": {
        "colab": {
          "base_uri": "https://localhost:8080/"
        },
        "id": "j5SIPamfPjUn",
        "outputId": "4f238e91-fadd-4f43-c664-b5e0d5da6ce0"
      },
      "execution_count": 1,
      "outputs": [
        {
          "output_type": "stream",
          "name": "stdout",
          "text": [
            "Mounted at /content/drive\n"
          ]
        }
      ]
    },
    {
      "cell_type": "code",
      "source": [
        "# setup kaggle\n",
        "! mkdir ~/.kaggle\n",
        "! cp /content/drive/MyDrive/Kaggle/kaggle.json ~/.kaggle/\n",
        "! chmod 600 ~/.kaggle/kaggle.json"
      ],
      "metadata": {
        "id": "6W9V_VbePt-1"
      },
      "execution_count": 2,
      "outputs": []
    },
    {
      "cell_type": "code",
      "source": [
        "# get code from github and add it to path\n",
        "! git clone https://github.com/AmarCodes-22/Skribbl-bot.git"
      ],
      "metadata": {
        "colab": {
          "base_uri": "https://localhost:8080/"
        },
        "id": "aQAT0WwFQBxJ",
        "outputId": "2c054aac-2d12-4b31-9b14-30356da4ac90"
      },
      "execution_count": 3,
      "outputs": [
        {
          "output_type": "stream",
          "name": "stdout",
          "text": [
            "Cloning into 'Skribbl-bot'...\n",
            "remote: Enumerating objects: 30, done.\u001b[K\n",
            "remote: Counting objects: 100% (30/30), done.\u001b[K\n",
            "remote: Compressing objects: 100% (18/18), done.\u001b[K\n",
            "remote: Total 30 (delta 6), reused 29 (delta 5), pack-reused 0\u001b[K\n",
            "Unpacking objects: 100% (30/30), done.\n"
          ]
        }
      ]
    },
    {
      "cell_type": "code",
      "source": [
        "import sys\n",
        "sys.path.append('/content/Skribbl-bot')"
      ],
      "metadata": {
        "id": "lAlxLJjeQPfi"
      },
      "execution_count": 4,
      "outputs": []
    },
    {
      "cell_type": "code",
      "source": [
        "! pip install cairocffi"
      ],
      "metadata": {
        "colab": {
          "base_uri": "https://localhost:8080/"
        },
        "id": "k9UTQ1PZSv8o",
        "outputId": "6ec7cc3c-2dbb-4a63-ea99-badfbfe730ba"
      },
      "execution_count": 5,
      "outputs": [
        {
          "output_type": "stream",
          "name": "stdout",
          "text": [
            "Collecting cairocffi\n",
            "  Downloading cairocffi-1.3.0.tar.gz (88 kB)\n",
            "\u001b[?25l\r\u001b[K     |███▊                            | 10 kB 14.7 MB/s eta 0:00:01\r\u001b[K     |███████▍                        | 20 kB 20.8 MB/s eta 0:00:01\r\u001b[K     |███████████                     | 30 kB 26.5 MB/s eta 0:00:01\r\u001b[K     |██████████████▊                 | 40 kB 26.9 MB/s eta 0:00:01\r\u001b[K     |██████████████████▌             | 51 kB 19.6 MB/s eta 0:00:01\r\u001b[K     |██████████████████████▏         | 61 kB 22.4 MB/s eta 0:00:01\r\u001b[K     |█████████████████████████▉      | 71 kB 22.5 MB/s eta 0:00:01\r\u001b[K     |█████████████████████████████▌  | 81 kB 23.7 MB/s eta 0:00:01\r\u001b[K     |████████████████████████████████| 88 kB 6.7 MB/s \n",
            "\u001b[?25hRequirement already satisfied: cffi>=1.1.0 in /usr/local/lib/python3.7/dist-packages (from cairocffi) (1.15.0)\n",
            "Requirement already satisfied: pycparser in /usr/local/lib/python3.7/dist-packages (from cffi>=1.1.0->cairocffi) (2.21)\n",
            "Building wheels for collected packages: cairocffi\n",
            "  Building wheel for cairocffi (setup.py) ... \u001b[?25l\u001b[?25hdone\n",
            "  Created wheel for cairocffi: filename=cairocffi-1.3.0-py3-none-any.whl size=89668 sha256=c238388492fe3957daeb00586f4b898e8d975a14a1ce64286ae55bc48a10a490\n",
            "  Stored in directory: /root/.cache/pip/wheels/4e/ca/e1/5c8a9692a27f639a07c949044bec943f26c81cd53d3805319f\n",
            "Successfully built cairocffi\n",
            "Installing collected packages: cairocffi\n",
            "Successfully installed cairocffi-1.3.0\n"
          ]
        }
      ]
    },
    {
      "cell_type": "markdown",
      "source": [
        "# Download and Extract dataset"
      ],
      "metadata": {
        "id": "lhdeWSjEQcqq"
      }
    },
    {
      "cell_type": "code",
      "source": [
        "! kaggle datasets download -d amarcodes/quickdraw-binary"
      ],
      "metadata": {
        "colab": {
          "base_uri": "https://localhost:8080/"
        },
        "id": "Q73-WKEZQghG",
        "outputId": "58e6aba1-0fba-453e-8778-6dba20a07a8b"
      },
      "execution_count": 6,
      "outputs": [
        {
          "output_type": "stream",
          "name": "stdout",
          "text": [
            "Downloading quickdraw-binary.zip to /content\n",
            "100% 5.08G/5.08G [01:03<00:00, 88.4MB/s]\n",
            "100% 5.08G/5.08G [01:03<00:00, 86.1MB/s]\n"
          ]
        }
      ]
    },
    {
      "cell_type": "code",
      "source": [
        "! unzip quickdraw-binary.zip -d /content/Skribbl-bot/data/binary/"
      ],
      "metadata": {
        "colab": {
          "base_uri": "https://localhost:8080/"
        },
        "id": "TnUQxTLRQu_B",
        "outputId": "35fa38be-1a66-4853-8d3e-93273dabf9db"
      },
      "execution_count": 11,
      "outputs": [
        {
          "output_type": "stream",
          "name": "stdout",
          "text": [
            "Archive:  quickdraw-binary.zip\n",
            "  inflating: /content/Skribbl-bot/data/binary/The Eiffel Tower.bin  \n",
            "  inflating: /content/Skribbl-bot/data/binary/The Great Wall of China.bin  \n",
            "  inflating: /content/Skribbl-bot/data/binary/The Mona Lisa.bin  \n",
            "  inflating: /content/Skribbl-bot/data/binary/aircraft carrier.bin  \n",
            "  inflating: /content/Skribbl-bot/data/binary/airplane.bin  \n",
            "  inflating: /content/Skribbl-bot/data/binary/alarm clock.bin  \n",
            "  inflating: /content/Skribbl-bot/data/binary/ambulance.bin  \n",
            "  inflating: /content/Skribbl-bot/data/binary/angel.bin  \n",
            "  inflating: /content/Skribbl-bot/data/binary/animal migration.bin  \n",
            "  inflating: /content/Skribbl-bot/data/binary/ant.bin  \n",
            "  inflating: /content/Skribbl-bot/data/binary/anvil.bin  \n",
            "  inflating: /content/Skribbl-bot/data/binary/apple.bin  \n",
            "  inflating: /content/Skribbl-bot/data/binary/arm.bin  \n",
            "  inflating: /content/Skribbl-bot/data/binary/asparagus.bin  \n",
            "  inflating: /content/Skribbl-bot/data/binary/axe.bin  \n",
            "  inflating: /content/Skribbl-bot/data/binary/backpack.bin  \n",
            "  inflating: /content/Skribbl-bot/data/binary/banana.bin  \n",
            "  inflating: /content/Skribbl-bot/data/binary/bandage.bin  \n",
            "  inflating: /content/Skribbl-bot/data/binary/barn.bin  \n",
            "  inflating: /content/Skribbl-bot/data/binary/baseball bat.bin  \n",
            "  inflating: /content/Skribbl-bot/data/binary/baseball.bin  \n",
            "  inflating: /content/Skribbl-bot/data/binary/basket.bin  \n",
            "  inflating: /content/Skribbl-bot/data/binary/basketball.bin  \n",
            "  inflating: /content/Skribbl-bot/data/binary/bat.bin  \n",
            "  inflating: /content/Skribbl-bot/data/binary/bathtub.bin  \n",
            "  inflating: /content/Skribbl-bot/data/binary/beach.bin  \n",
            "  inflating: /content/Skribbl-bot/data/binary/bear.bin  \n",
            "  inflating: /content/Skribbl-bot/data/binary/beard.bin  \n",
            "  inflating: /content/Skribbl-bot/data/binary/bed.bin  \n",
            "  inflating: /content/Skribbl-bot/data/binary/bee.bin  \n",
            "  inflating: /content/Skribbl-bot/data/binary/belt.bin  \n",
            "  inflating: /content/Skribbl-bot/data/binary/bench.bin  \n",
            "  inflating: /content/Skribbl-bot/data/binary/bicycle.bin  \n",
            "  inflating: /content/Skribbl-bot/data/binary/binoculars.bin  \n",
            "  inflating: /content/Skribbl-bot/data/binary/bird.bin  \n",
            "  inflating: /content/Skribbl-bot/data/binary/birthday cake.bin  \n",
            "  inflating: /content/Skribbl-bot/data/binary/blackberry.bin  \n",
            "  inflating: /content/Skribbl-bot/data/binary/blueberry.bin  \n",
            "  inflating: /content/Skribbl-bot/data/binary/book.bin  \n",
            "  inflating: /content/Skribbl-bot/data/binary/boomerang.bin  \n",
            "  inflating: /content/Skribbl-bot/data/binary/bottlecap.bin  \n",
            "  inflating: /content/Skribbl-bot/data/binary/bowtie.bin  \n",
            "  inflating: /content/Skribbl-bot/data/binary/bracelet.bin  \n",
            "  inflating: /content/Skribbl-bot/data/binary/brain.bin  \n",
            "  inflating: /content/Skribbl-bot/data/binary/bread.bin  \n",
            "  inflating: /content/Skribbl-bot/data/binary/bridge.bin  \n",
            "  inflating: /content/Skribbl-bot/data/binary/broccoli.bin  \n",
            "  inflating: /content/Skribbl-bot/data/binary/broom.bin  \n",
            "  inflating: /content/Skribbl-bot/data/binary/bucket.bin  \n",
            "  inflating: /content/Skribbl-bot/data/binary/bulldozer.bin  \n",
            "  inflating: /content/Skribbl-bot/data/binary/bus.bin  \n",
            "  inflating: /content/Skribbl-bot/data/binary/bush.bin  \n",
            "  inflating: /content/Skribbl-bot/data/binary/butterfly.bin  \n",
            "  inflating: /content/Skribbl-bot/data/binary/cactus.bin  \n",
            "  inflating: /content/Skribbl-bot/data/binary/cake.bin  \n",
            "  inflating: /content/Skribbl-bot/data/binary/calculator.bin  \n",
            "  inflating: /content/Skribbl-bot/data/binary/calendar.bin  \n",
            "  inflating: /content/Skribbl-bot/data/binary/camel.bin  \n",
            "  inflating: /content/Skribbl-bot/data/binary/camera.bin  \n",
            "  inflating: /content/Skribbl-bot/data/binary/camouflage.bin  \n",
            "  inflating: /content/Skribbl-bot/data/binary/campfire.bin  \n",
            "  inflating: /content/Skribbl-bot/data/binary/candle.bin  \n",
            "  inflating: /content/Skribbl-bot/data/binary/cannon.bin  \n",
            "  inflating: /content/Skribbl-bot/data/binary/canoe.bin  \n",
            "  inflating: /content/Skribbl-bot/data/binary/car.bin  \n",
            "  inflating: /content/Skribbl-bot/data/binary/carrot.bin  \n",
            "  inflating: /content/Skribbl-bot/data/binary/castle.bin  \n",
            "  inflating: /content/Skribbl-bot/data/binary/cat.bin  \n",
            "  inflating: /content/Skribbl-bot/data/binary/ceiling fan.bin  \n",
            "  inflating: /content/Skribbl-bot/data/binary/cell phone.bin  \n",
            "  inflating: /content/Skribbl-bot/data/binary/cello.bin  \n",
            "  inflating: /content/Skribbl-bot/data/binary/chair.bin  \n",
            "  inflating: /content/Skribbl-bot/data/binary/chandelier.bin  \n",
            "  inflating: /content/Skribbl-bot/data/binary/church.bin  \n",
            "  inflating: /content/Skribbl-bot/data/binary/circle.bin  \n",
            "  inflating: /content/Skribbl-bot/data/binary/clarinet.bin  \n",
            "  inflating: /content/Skribbl-bot/data/binary/clock.bin  \n",
            "  inflating: /content/Skribbl-bot/data/binary/cloud.bin  \n",
            "  inflating: /content/Skribbl-bot/data/binary/coffee cup.bin  \n",
            "  inflating: /content/Skribbl-bot/data/binary/compass.bin  \n",
            "  inflating: /content/Skribbl-bot/data/binary/computer.bin  \n",
            "  inflating: /content/Skribbl-bot/data/binary/cookie.bin  \n",
            "  inflating: /content/Skribbl-bot/data/binary/cooler.bin  \n",
            "  inflating: /content/Skribbl-bot/data/binary/couch.bin  \n",
            "  inflating: /content/Skribbl-bot/data/binary/cow.bin  \n",
            "  inflating: /content/Skribbl-bot/data/binary/crab.bin  \n",
            "  inflating: /content/Skribbl-bot/data/binary/crayon.bin  \n",
            "  inflating: /content/Skribbl-bot/data/binary/crocodile.bin  \n",
            "  inflating: /content/Skribbl-bot/data/binary/crown.bin  \n",
            "  inflating: /content/Skribbl-bot/data/binary/cruise ship.bin  \n",
            "  inflating: /content/Skribbl-bot/data/binary/cup.bin  \n",
            "  inflating: /content/Skribbl-bot/data/binary/diamond.bin  \n",
            "  inflating: /content/Skribbl-bot/data/binary/dishwasher.bin  \n",
            "  inflating: /content/Skribbl-bot/data/binary/diving board.bin  \n",
            "  inflating: /content/Skribbl-bot/data/binary/dog.bin  \n",
            "  inflating: /content/Skribbl-bot/data/binary/dolphin.bin  \n",
            "  inflating: /content/Skribbl-bot/data/binary/donut.bin  \n",
            "  inflating: /content/Skribbl-bot/data/binary/door.bin  \n",
            "  inflating: /content/Skribbl-bot/data/binary/dragon.bin  \n",
            "  inflating: /content/Skribbl-bot/data/binary/dresser.bin  \n",
            "  inflating: /content/Skribbl-bot/data/binary/drill.bin  \n",
            "  inflating: /content/Skribbl-bot/data/binary/drums.bin  \n",
            "  inflating: /content/Skribbl-bot/data/binary/duck.bin  \n",
            "  inflating: /content/Skribbl-bot/data/binary/dumbbell.bin  \n",
            "  inflating: /content/Skribbl-bot/data/binary/ear.bin  \n",
            "  inflating: /content/Skribbl-bot/data/binary/elbow.bin  \n",
            "  inflating: /content/Skribbl-bot/data/binary/elephant.bin  \n",
            "  inflating: /content/Skribbl-bot/data/binary/envelope.bin  \n",
            "  inflating: /content/Skribbl-bot/data/binary/eraser.bin  \n",
            "  inflating: /content/Skribbl-bot/data/binary/eye.bin  \n",
            "  inflating: /content/Skribbl-bot/data/binary/eyeglasses.bin  \n",
            "  inflating: /content/Skribbl-bot/data/binary/face.bin  \n",
            "  inflating: /content/Skribbl-bot/data/binary/fan.bin  \n",
            "  inflating: /content/Skribbl-bot/data/binary/feather.bin  \n",
            "  inflating: /content/Skribbl-bot/data/binary/fence.bin  \n",
            "  inflating: /content/Skribbl-bot/data/binary/finger.bin  \n",
            "  inflating: /content/Skribbl-bot/data/binary/fire hydrant.bin  \n",
            "  inflating: /content/Skribbl-bot/data/binary/fireplace.bin  \n",
            "  inflating: /content/Skribbl-bot/data/binary/firetruck.bin  \n",
            "  inflating: /content/Skribbl-bot/data/binary/fish.bin  \n",
            "  inflating: /content/Skribbl-bot/data/binary/flamingo.bin  \n",
            "  inflating: /content/Skribbl-bot/data/binary/flashlight.bin  \n",
            "  inflating: /content/Skribbl-bot/data/binary/flip flops.bin  \n",
            "  inflating: /content/Skribbl-bot/data/binary/floor lamp.bin  \n",
            "  inflating: /content/Skribbl-bot/data/binary/flower.bin  \n",
            "  inflating: /content/Skribbl-bot/data/binary/flying saucer.bin  \n",
            "  inflating: /content/Skribbl-bot/data/binary/foot.bin  \n",
            "  inflating: /content/Skribbl-bot/data/binary/fork.bin  \n",
            "  inflating: /content/Skribbl-bot/data/binary/frog.bin  \n",
            "  inflating: /content/Skribbl-bot/data/binary/frying pan.bin  \n",
            "  inflating: /content/Skribbl-bot/data/binary/garden hose.bin  \n",
            "  inflating: /content/Skribbl-bot/data/binary/garden.bin  \n",
            "  inflating: /content/Skribbl-bot/data/binary/giraffe.bin  \n",
            "  inflating: /content/Skribbl-bot/data/binary/goatee.bin  \n",
            "  inflating: /content/Skribbl-bot/data/binary/golf club.bin  \n",
            "  inflating: /content/Skribbl-bot/data/binary/grapes.bin  \n",
            "  inflating: /content/Skribbl-bot/data/binary/grass.bin  \n",
            "  inflating: /content/Skribbl-bot/data/binary/guitar.bin  \n",
            "  inflating: /content/Skribbl-bot/data/binary/hamburger.bin  \n",
            "  inflating: /content/Skribbl-bot/data/binary/hammer.bin  \n",
            "  inflating: /content/Skribbl-bot/data/binary/hand.bin  \n",
            "  inflating: /content/Skribbl-bot/data/binary/harp.bin  \n",
            "  inflating: /content/Skribbl-bot/data/binary/hat.bin  \n",
            "  inflating: /content/Skribbl-bot/data/binary/headphones.bin  \n",
            "  inflating: /content/Skribbl-bot/data/binary/hedgehog.bin  \n",
            "  inflating: /content/Skribbl-bot/data/binary/helicopter.bin  \n",
            "  inflating: /content/Skribbl-bot/data/binary/helmet.bin  \n",
            "  inflating: /content/Skribbl-bot/data/binary/hexagon.bin  \n",
            "  inflating: /content/Skribbl-bot/data/binary/hockey puck.bin  \n",
            "  inflating: /content/Skribbl-bot/data/binary/hockey stick.bin  \n",
            "  inflating: /content/Skribbl-bot/data/binary/horse.bin  \n",
            "  inflating: /content/Skribbl-bot/data/binary/hospital.bin  \n",
            "  inflating: /content/Skribbl-bot/data/binary/hot air balloon.bin  \n",
            "  inflating: /content/Skribbl-bot/data/binary/hot dog.bin  \n",
            "  inflating: /content/Skribbl-bot/data/binary/hot tub.bin  \n",
            "  inflating: /content/Skribbl-bot/data/binary/hourglass.bin  \n",
            "  inflating: /content/Skribbl-bot/data/binary/house plant.bin  \n",
            "  inflating: /content/Skribbl-bot/data/binary/house.bin  \n",
            "  inflating: /content/Skribbl-bot/data/binary/hurricane.bin  \n",
            "  inflating: /content/Skribbl-bot/data/binary/ice cream.bin  \n",
            "  inflating: /content/Skribbl-bot/data/binary/jacket.bin  \n",
            "  inflating: /content/Skribbl-bot/data/binary/jail.bin  \n",
            "  inflating: /content/Skribbl-bot/data/binary/kangaroo.bin  \n",
            "  inflating: /content/Skribbl-bot/data/binary/key.bin  \n",
            "  inflating: /content/Skribbl-bot/data/binary/keyboard.bin  \n",
            "  inflating: /content/Skribbl-bot/data/binary/knee.bin  \n",
            "  inflating: /content/Skribbl-bot/data/binary/knife.bin  \n",
            "  inflating: /content/Skribbl-bot/data/binary/ladder.bin  \n",
            "  inflating: /content/Skribbl-bot/data/binary/lantern.bin  \n",
            "  inflating: /content/Skribbl-bot/data/binary/laptop.bin  \n",
            "  inflating: /content/Skribbl-bot/data/binary/leaf.bin  \n",
            "  inflating: /content/Skribbl-bot/data/binary/leg.bin  \n",
            "  inflating: /content/Skribbl-bot/data/binary/light bulb.bin  \n",
            "  inflating: /content/Skribbl-bot/data/binary/lighter.bin  \n",
            "  inflating: /content/Skribbl-bot/data/binary/lighthouse.bin  \n",
            "  inflating: /content/Skribbl-bot/data/binary/lightning.bin  \n",
            "  inflating: /content/Skribbl-bot/data/binary/line.bin  \n",
            "  inflating: /content/Skribbl-bot/data/binary/lion.bin  \n",
            "  inflating: /content/Skribbl-bot/data/binary/lipstick.bin  \n",
            "  inflating: /content/Skribbl-bot/data/binary/lobster.bin  \n",
            "  inflating: /content/Skribbl-bot/data/binary/lollipop.bin  \n",
            "  inflating: /content/Skribbl-bot/data/binary/mailbox.bin  \n",
            "  inflating: /content/Skribbl-bot/data/binary/map.bin  \n",
            "  inflating: /content/Skribbl-bot/data/binary/marker.bin  \n",
            "  inflating: /content/Skribbl-bot/data/binary/matches.bin  \n",
            "  inflating: /content/Skribbl-bot/data/binary/megaphone.bin  \n",
            "  inflating: /content/Skribbl-bot/data/binary/mermaid.bin  \n",
            "  inflating: /content/Skribbl-bot/data/binary/microphone.bin  \n",
            "  inflating: /content/Skribbl-bot/data/binary/microwave.bin  \n",
            "  inflating: /content/Skribbl-bot/data/binary/monkey.bin  \n",
            "  inflating: /content/Skribbl-bot/data/binary/moon.bin  \n",
            "  inflating: /content/Skribbl-bot/data/binary/mosquito.bin  \n",
            "  inflating: /content/Skribbl-bot/data/binary/motorbike.bin  \n",
            "  inflating: /content/Skribbl-bot/data/binary/mountain.bin  \n",
            "  inflating: /content/Skribbl-bot/data/binary/mouse.bin  \n",
            "  inflating: /content/Skribbl-bot/data/binary/moustache.bin  \n",
            "  inflating: /content/Skribbl-bot/data/binary/mouth.bin  \n",
            "  inflating: /content/Skribbl-bot/data/binary/mug.bin  \n",
            "  inflating: /content/Skribbl-bot/data/binary/mushroom.bin  \n",
            "  inflating: /content/Skribbl-bot/data/binary/nail.bin  \n",
            "  inflating: /content/Skribbl-bot/data/binary/necklace.bin  \n",
            "  inflating: /content/Skribbl-bot/data/binary/nose.bin  \n",
            "  inflating: /content/Skribbl-bot/data/binary/ocean.bin  \n",
            "  inflating: /content/Skribbl-bot/data/binary/octagon.bin  \n",
            "  inflating: /content/Skribbl-bot/data/binary/octopus.bin  \n",
            "  inflating: /content/Skribbl-bot/data/binary/onion.bin  \n",
            "  inflating: /content/Skribbl-bot/data/binary/oven.bin  \n",
            "  inflating: /content/Skribbl-bot/data/binary/owl.bin  \n",
            "  inflating: /content/Skribbl-bot/data/binary/paint can.bin  \n",
            "  inflating: /content/Skribbl-bot/data/binary/paintbrush.bin  \n",
            "  inflating: /content/Skribbl-bot/data/binary/palm tree.bin  \n",
            "  inflating: /content/Skribbl-bot/data/binary/panda.bin  \n",
            "  inflating: /content/Skribbl-bot/data/binary/pants.bin  \n",
            "  inflating: /content/Skribbl-bot/data/binary/paper clip.bin  \n",
            "  inflating: /content/Skribbl-bot/data/binary/parachute.bin  \n",
            "  inflating: /content/Skribbl-bot/data/binary/parrot.bin  \n",
            "  inflating: /content/Skribbl-bot/data/binary/passport.bin  \n",
            "  inflating: /content/Skribbl-bot/data/binary/peanut.bin  \n",
            "  inflating: /content/Skribbl-bot/data/binary/pear.bin  \n",
            "  inflating: /content/Skribbl-bot/data/binary/peas.bin  \n",
            "  inflating: /content/Skribbl-bot/data/binary/pencil.bin  \n",
            "  inflating: /content/Skribbl-bot/data/binary/penguin.bin  \n",
            "  inflating: /content/Skribbl-bot/data/binary/piano.bin  \n",
            "  inflating: /content/Skribbl-bot/data/binary/pickup truck.bin  \n",
            "  inflating: /content/Skribbl-bot/data/binary/picture frame.bin  \n",
            "  inflating: /content/Skribbl-bot/data/binary/pig.bin  \n",
            "  inflating: /content/Skribbl-bot/data/binary/pillow.bin  \n",
            "  inflating: /content/Skribbl-bot/data/binary/pineapple.bin  \n",
            "  inflating: /content/Skribbl-bot/data/binary/pizza.bin  \n",
            "  inflating: /content/Skribbl-bot/data/binary/pliers.bin  \n",
            "  inflating: /content/Skribbl-bot/data/binary/police car.bin  \n",
            "  inflating: /content/Skribbl-bot/data/binary/pond.bin  \n",
            "  inflating: /content/Skribbl-bot/data/binary/pool.bin  \n",
            "  inflating: /content/Skribbl-bot/data/binary/popsicle.bin  \n",
            "  inflating: /content/Skribbl-bot/data/binary/postcard.bin  \n",
            "  inflating: /content/Skribbl-bot/data/binary/potato.bin  \n",
            "  inflating: /content/Skribbl-bot/data/binary/power outlet.bin  \n",
            "  inflating: /content/Skribbl-bot/data/binary/purse.bin  \n",
            "  inflating: /content/Skribbl-bot/data/binary/rabbit.bin  \n",
            "  inflating: /content/Skribbl-bot/data/binary/raccoon.bin  \n",
            "  inflating: /content/Skribbl-bot/data/binary/radio.bin  \n",
            "  inflating: /content/Skribbl-bot/data/binary/rain.bin  \n",
            "  inflating: /content/Skribbl-bot/data/binary/rainbow.bin  \n",
            "  inflating: /content/Skribbl-bot/data/binary/rake.bin  \n",
            "  inflating: /content/Skribbl-bot/data/binary/remote control.bin  \n",
            "  inflating: /content/Skribbl-bot/data/binary/rhinoceros.bin  \n",
            "  inflating: /content/Skribbl-bot/data/binary/rifle.bin  \n",
            "  inflating: /content/Skribbl-bot/data/binary/river.bin  \n",
            "  inflating: /content/Skribbl-bot/data/binary/roller coaster.bin  \n",
            "  inflating: /content/Skribbl-bot/data/binary/rollerskates.bin  \n",
            "  inflating: /content/Skribbl-bot/data/binary/sailboat.bin  \n",
            "  inflating: /content/Skribbl-bot/data/binary/sandwich.bin  \n",
            "  inflating: /content/Skribbl-bot/data/binary/saw.bin  \n",
            "  inflating: /content/Skribbl-bot/data/binary/saxophone.bin  \n",
            "  inflating: /content/Skribbl-bot/data/binary/school bus.bin  \n",
            "  inflating: /content/Skribbl-bot/data/binary/scissors.bin  \n",
            "  inflating: /content/Skribbl-bot/data/binary/scorpion.bin  \n",
            "  inflating: /content/Skribbl-bot/data/binary/screwdriver.bin  \n",
            "  inflating: /content/Skribbl-bot/data/binary/sea turtle.bin  \n",
            "  inflating: /content/Skribbl-bot/data/binary/see saw.bin  \n",
            "  inflating: /content/Skribbl-bot/data/binary/shark.bin  \n",
            "  inflating: /content/Skribbl-bot/data/binary/sheep.bin  \n",
            "  inflating: /content/Skribbl-bot/data/binary/shoe.bin  \n",
            "  inflating: /content/Skribbl-bot/data/binary/shorts.bin  \n",
            "  inflating: /content/Skribbl-bot/data/binary/shovel.bin  \n",
            "  inflating: /content/Skribbl-bot/data/binary/sink.bin  \n",
            "  inflating: /content/Skribbl-bot/data/binary/skateboard.bin  \n",
            "  inflating: /content/Skribbl-bot/data/binary/skull.bin  \n",
            "  inflating: /content/Skribbl-bot/data/binary/skyscraper.bin  \n",
            "  inflating: /content/Skribbl-bot/data/binary/sleeping bag.bin  \n",
            "  inflating: /content/Skribbl-bot/data/binary/smiley face.bin  \n",
            "  inflating: /content/Skribbl-bot/data/binary/snail.bin  \n",
            "  inflating: /content/Skribbl-bot/data/binary/snake.bin  \n",
            "  inflating: /content/Skribbl-bot/data/binary/snorkel.bin  \n",
            "  inflating: /content/Skribbl-bot/data/binary/snowflake.bin  \n",
            "  inflating: /content/Skribbl-bot/data/binary/snowman.bin  \n",
            "  inflating: /content/Skribbl-bot/data/binary/soccer ball.bin  \n",
            "  inflating: /content/Skribbl-bot/data/binary/sock.bin  \n",
            "  inflating: /content/Skribbl-bot/data/binary/speedboat.bin  \n",
            "  inflating: /content/Skribbl-bot/data/binary/spider.bin  \n",
            "  inflating: /content/Skribbl-bot/data/binary/spoon.bin  \n",
            "  inflating: /content/Skribbl-bot/data/binary/spreadsheet.bin  \n",
            "  inflating: /content/Skribbl-bot/data/binary/square.bin  \n",
            "  inflating: /content/Skribbl-bot/data/binary/squiggle.bin  \n",
            "  inflating: /content/Skribbl-bot/data/binary/squirrel.bin  \n",
            "  inflating: /content/Skribbl-bot/data/binary/stairs.bin  \n",
            "  inflating: /content/Skribbl-bot/data/binary/star.bin  \n",
            "  inflating: /content/Skribbl-bot/data/binary/steak.bin  \n",
            "  inflating: /content/Skribbl-bot/data/binary/stereo.bin  \n",
            "  inflating: /content/Skribbl-bot/data/binary/stethoscope.bin  \n",
            "  inflating: /content/Skribbl-bot/data/binary/stitches.bin  \n",
            "  inflating: /content/Skribbl-bot/data/binary/stop sign.bin  \n",
            "  inflating: /content/Skribbl-bot/data/binary/stove.bin  \n",
            "  inflating: /content/Skribbl-bot/data/binary/strawberry.bin  \n",
            "  inflating: /content/Skribbl-bot/data/binary/streetlight.bin  \n",
            "  inflating: /content/Skribbl-bot/data/binary/string bean.bin  \n",
            "  inflating: /content/Skribbl-bot/data/binary/submarine.bin  \n",
            "  inflating: /content/Skribbl-bot/data/binary/suitcase.bin  \n",
            "  inflating: /content/Skribbl-bot/data/binary/sun.bin  \n",
            "  inflating: /content/Skribbl-bot/data/binary/swan.bin  \n",
            "  inflating: /content/Skribbl-bot/data/binary/sweater.bin  \n",
            "  inflating: /content/Skribbl-bot/data/binary/swing set.bin  \n",
            "  inflating: /content/Skribbl-bot/data/binary/sword.bin  \n",
            "  inflating: /content/Skribbl-bot/data/binary/syringe.bin  \n",
            "  inflating: /content/Skribbl-bot/data/binary/t-shirt.bin  \n",
            "  inflating: /content/Skribbl-bot/data/binary/table.bin  \n",
            "  inflating: /content/Skribbl-bot/data/binary/teapot.bin  \n",
            "  inflating: /content/Skribbl-bot/data/binary/teddy-bear.bin  \n",
            "  inflating: /content/Skribbl-bot/data/binary/telephone.bin  \n",
            "  inflating: /content/Skribbl-bot/data/binary/television.bin  \n",
            "  inflating: /content/Skribbl-bot/data/binary/tennis racquet.bin  \n",
            "  inflating: /content/Skribbl-bot/data/binary/tent.bin  \n",
            "  inflating: /content/Skribbl-bot/data/binary/tiger.bin  \n",
            "  inflating: /content/Skribbl-bot/data/binary/toaster.bin  \n",
            "  inflating: /content/Skribbl-bot/data/binary/toe.bin  \n",
            "  inflating: /content/Skribbl-bot/data/binary/toilet.bin  \n",
            "  inflating: /content/Skribbl-bot/data/binary/tooth.bin  \n",
            "  inflating: /content/Skribbl-bot/data/binary/toothbrush.bin  \n",
            "  inflating: /content/Skribbl-bot/data/binary/toothpaste.bin  \n",
            "  inflating: /content/Skribbl-bot/data/binary/tornado.bin  \n",
            "  inflating: /content/Skribbl-bot/data/binary/tractor.bin  \n",
            "  inflating: /content/Skribbl-bot/data/binary/traffic light.bin  \n",
            "  inflating: /content/Skribbl-bot/data/binary/train.bin  \n",
            "  inflating: /content/Skribbl-bot/data/binary/tree.bin  \n",
            "  inflating: /content/Skribbl-bot/data/binary/triangle.bin  \n",
            "  inflating: /content/Skribbl-bot/data/binary/trombone.bin  \n",
            "  inflating: /content/Skribbl-bot/data/binary/truck.bin  \n",
            "  inflating: /content/Skribbl-bot/data/binary/trumpet.bin  \n",
            "  inflating: /content/Skribbl-bot/data/binary/umbrella.bin  \n",
            "  inflating: /content/Skribbl-bot/data/binary/underwear.bin  \n",
            "  inflating: /content/Skribbl-bot/data/binary/van.bin  \n",
            "  inflating: /content/Skribbl-bot/data/binary/vase.bin  \n",
            "  inflating: /content/Skribbl-bot/data/binary/violin.bin  \n",
            "  inflating: /content/Skribbl-bot/data/binary/washing machine.bin  \n",
            "  inflating: /content/Skribbl-bot/data/binary/watermelon.bin  \n",
            "  inflating: /content/Skribbl-bot/data/binary/waterslide.bin  \n",
            "  inflating: /content/Skribbl-bot/data/binary/whale.bin  \n",
            "  inflating: /content/Skribbl-bot/data/binary/wheel.bin  \n",
            "  inflating: /content/Skribbl-bot/data/binary/windmill.bin  \n",
            "  inflating: /content/Skribbl-bot/data/binary/wine bottle.bin  \n",
            "  inflating: /content/Skribbl-bot/data/binary/wine glass.bin  \n",
            "  inflating: /content/Skribbl-bot/data/binary/wristwatch.bin  \n",
            "  inflating: /content/Skribbl-bot/data/binary/yoga.bin  \n",
            "  inflating: /content/Skribbl-bot/data/binary/zebra.bin  \n",
            "  inflating: /content/Skribbl-bot/data/binary/zigzag.bin  \n"
          ]
        }
      ]
    },
    {
      "cell_type": "markdown",
      "source": [
        "# Test our Implementation of the Dataset"
      ],
      "metadata": {
        "id": "unITxoOER0jJ"
      }
    },
    {
      "cell_type": "code",
      "source": [
        "import os\n",
        "import random\n",
        "\n",
        "import matplotlib.pyplot as plt\n",
        "from tqdm import tqdm\n",
        "\n",
        "from src.data.quickdraw_dataset import Quickdraw"
      ],
      "metadata": {
        "id": "Th2kMDB9STtw"
      },
      "execution_count": 12,
      "outputs": []
    },
    {
      "cell_type": "code",
      "source": [
        "# import imp\n",
        "# imp.reload(src.data.quickdraw_dataset)"
      ],
      "metadata": {
        "colab": {
          "base_uri": "https://localhost:8080/"
        },
        "id": "4DpSU407d1E-",
        "outputId": "83e0c9c2-75cb-4a28-d9de-5472b60bd20c"
      },
      "execution_count": null,
      "outputs": [
        {
          "output_type": "execute_result",
          "data": {
            "text/plain": [
              "<module 'src.data.quickdraw_dataset' from '/content/Skribbl-bot/src/data/quickdraw_dataset.py'>"
            ]
          },
          "metadata": {},
          "execution_count": 58
        }
      ]
    },
    {
      "cell_type": "code",
      "source": [
        "# Let's first check if we can convert binary file to images with our code\n",
        "quickdraw = Quickdraw('/content/Skribbl-bot/resources/labels.txt')"
      ],
      "metadata": {
        "id": "i-8zEo5LSheK"
      },
      "execution_count": 13,
      "outputs": []
    },
    {
      "cell_type": "code",
      "source": [
        "# Load drawings from binary file\n",
        "binary_fpath = '/content/Skribbl-bot/data/binary/cat.bin'\n",
        "drawings = quickdraw.load_binary_as_strokes(binary_fpath)"
      ],
      "metadata": {
        "id": "OND78MgCTYXZ"
      },
      "execution_count": 14,
      "outputs": []
    },
    {
      "cell_type": "code",
      "source": [
        "type(drawings), len(drawings), type(drawings[0]), drawings[0].keys()"
      ],
      "metadata": {
        "colab": {
          "base_uri": "https://localhost:8080/"
        },
        "id": "B-Nrw0TwUGXL",
        "outputId": "9ecde2c4-01e6-4225-cc90-553da5f30dac"
      },
      "execution_count": 15,
      "outputs": [
        {
          "output_type": "execute_result",
          "data": {
            "text/plain": [
              "(list,\n",
              " 123202,\n",
              " dict,\n",
              " dict_keys(['country_code', 'recognized', 'timestamp', 'strokes', 'word']))"
            ]
          },
          "metadata": {},
          "execution_count": 15
        }
      ]
    },
    {
      "cell_type": "code",
      "source": [
        "# Convert strokes for single drawing to (256x256) image\n",
        "test_img = quickdraw.convert_strokes_to_image(drawings[0]['strokes'])\n",
        "plt.imshow(test_img, cmap='gray')"
      ],
      "metadata": {
        "colab": {
          "base_uri": "https://localhost:8080/",
          "height": 287
        },
        "id": "s2RJXlVLUPoG",
        "outputId": "32e17cea-5cfc-4bf5-8659-a2ea2a8b752f"
      },
      "execution_count": 18,
      "outputs": [
        {
          "output_type": "execute_result",
          "data": {
            "text/plain": [
              "<matplotlib.image.AxesImage at 0x7f247f703ed0>"
            ]
          },
          "metadata": {},
          "execution_count": 18
        },
        {
          "output_type": "display_data",
          "data": {
            "image/png": "[encoded data removed]",
            "text/plain": [
              "<Figure size 432x288 with 1 Axes>"
            ]
          },
          "metadata": {
            "needs_background": "light"
          }
        }
      ]
    },
    {
      "cell_type": "code",
      "source": [
        "# Save one image to disk\n",
        "quickdraw.save_image_to_disk(test_img, '/content/test_image.jpg')"
      ],
      "metadata": {
        "id": "UB7iRxwkUwn3"
      },
      "execution_count": 19,
      "outputs": []
    },
    {
      "cell_type": "markdown",
      "source": [
        "# Generating Versions of dataset\n",
        "We will generate version of dataset based on two factors\n",
        "* Number of classes in the dataset\n",
        "* Number of images to generate per class\n",
        "\n",
        "Let's first try to generate a version with 10 classes and 100 randomly chosen images per class.\n",
        "\n",
        "We'll be using the following three functions to generate each version :-\n",
        "* **load_binary_as_strokes** which will get fpath to a binary file and return us a list of drawings\n",
        "* **convert_strokes_to_images** which will take a single drawing from the above list and convert it to np.ndarray\n",
        "* **save_image_to_disk** which will save that np.ndarray to disk in their respective class folder"
      ],
      "metadata": {
        "id": "71SnTfAVU-Fz"
      }
    },
    {
      "cell_type": "code",
      "source": [
        "# Let's first make a directory where we'll save this dataset version\n",
        "! mkdir /content/quickdraw-10-100"
      ],
      "metadata": {
        "id": "1WXsFGMTVNii"
      },
      "execution_count": 20,
      "outputs": []
    },
    {
      "cell_type": "code",
      "source": [
        "classes_to_generate = random.sample(quickdraw.labels, 10)\n",
        "# classes_to_generate = [class_name for class_name in classes_to_generate]\n",
        "classes_to_generate"
      ],
      "metadata": {
        "colab": {
          "base_uri": "https://localhost:8080/"
        },
        "id": "7N9a52mXVejS",
        "outputId": "a6f6354a-216f-41e3-91f8-d2769199f929"
      },
      "execution_count": 22,
      "outputs": [
        {
          "output_type": "execute_result",
          "data": {
            "text/plain": [
              "['picture frame',\n",
              " 'carrot',\n",
              " 'ant',\n",
              " 'lighthouse',\n",
              " 'sword',\n",
              " 'rifle',\n",
              " 'chandelier',\n",
              " 'cactus',\n",
              " 'fish',\n",
              " 'shark']"
            ]
          },
          "metadata": {},
          "execution_count": 22
        }
      ]
    },
    {
      "cell_type": "code",
      "source": [
        "binary_files_dir = '/content/Skribbl-bot/data/binary'\n",
        "\n",
        "class_binary_fpaths = list()\n",
        "for class_name in classes_to_generate:\n",
        "    class_binary_fpaths.append(os.path.join(binary_files_dir, f'{class_name}.bin'))\n",
        "\n",
        "class_binary_fpaths"
      ],
      "metadata": {
        "colab": {
          "base_uri": "https://localhost:8080/"
        },
        "id": "QyMu-ZvZXlg9",
        "outputId": "f8e4be7d-9c2e-436b-f674-ccfc8f70f7a6"
      },
      "execution_count": 23,
      "outputs": [
        {
          "output_type": "execute_result",
          "data": {
            "text/plain": [
              "['/content/Skribbl-bot/data/binary/picture frame.bin',\n",
              " '/content/Skribbl-bot/data/binary/carrot.bin',\n",
              " '/content/Skribbl-bot/data/binary/ant.bin',\n",
              " '/content/Skribbl-bot/data/binary/lighthouse.bin',\n",
              " '/content/Skribbl-bot/data/binary/sword.bin',\n",
              " '/content/Skribbl-bot/data/binary/rifle.bin',\n",
              " '/content/Skribbl-bot/data/binary/chandelier.bin',\n",
              " '/content/Skribbl-bot/data/binary/cactus.bin',\n",
              " '/content/Skribbl-bot/data/binary/fish.bin',\n",
              " '/content/Skribbl-bot/data/binary/shark.bin']"
            ]
          },
          "metadata": {},
          "execution_count": 23
        }
      ]
    },
    {
      "cell_type": "code",
      "source": [
        "version_dataset_dir = '/content/quickdraw-10-100'\n",
        "for binary_fpath in class_binary_fpaths:\n",
        "\n",
        "    class_name = os.path.basename(binary_fpath)[:-4]\n",
        "    if not os.path.exists(os.path.join(version_dataset_dir, class_name)):\n",
        "        os.makedirs(os.path.join(version_dataset_dir, class_name))\n",
        "\n",
        "    print(f'Generating drawings for {class_name}')\n",
        "    drawings = quickdraw.load_binary_as_strokes(binary_fpath)\n",
        "    print(f'{len(drawings)} images found for {class_name}')\n",
        "\n",
        "    # randomly sample 100 drawings\n",
        "    random_drawings = random.sample(drawings, 100)\n",
        "\n",
        "    for i, drawing in enumerate(random_drawings):\n",
        "        strokes = drawing['strokes']\n",
        "        # convert strokes to nparray\n",
        "        img_arr = quickdraw.convert_strokes_to_image(strokes)\n",
        "\n",
        "        # save to disk\n",
        "        save_fpath = os.path.join(version_dataset_dir, class_name, f'{i}.jpg')\n",
        "        quickdraw.save_image_to_disk(img_arr, save_fpath)\n",
        "\n",
        "        # break only when testing the loop\n",
        "        # break\n",
        "    # break"
      ],
      "metadata": {
        "colab": {
          "base_uri": "https://localhost:8080/"
        },
        "id": "19ykWTWnZhf_",
        "outputId": "02e4d8df-6e6e-4606-b414-acb9f27bdc02"
      },
      "execution_count": 26,
      "outputs": [
        {
          "output_type": "stream",
          "name": "stdout",
          "text": [
            "Generating drawings for picture frame\n",
            "122371 images found for picture frame\n",
            "Generating drawings for carrot\n",
            "132459 images found for carrot\n",
            "Generating drawings for ant\n",
            "124612 images found for ant\n",
            "Generating drawings for lighthouse\n",
            "160903 images found for lighthouse\n",
            "Generating drawings for sword\n",
            "123802 images found for sword\n",
            "Generating drawings for rifle\n",
            "172444 images found for rifle\n",
            "Generating drawings for chandelier\n",
            "167502 images found for chandelier\n",
            "Generating drawings for cactus\n",
            "131676 images found for cactus\n",
            "Generating drawings for fish\n",
            "134150 images found for fish\n",
            "Generating drawings for shark\n",
            "126050 images found for shark\n"
          ]
        }
      ]
    },
    {
      "cell_type": "markdown",
      "source": [
        "# Okay, that was faster than expected really..."
      ],
      "metadata": {
        "id": "JzVwv2JI4ln-"
      }
    }
  ]
}