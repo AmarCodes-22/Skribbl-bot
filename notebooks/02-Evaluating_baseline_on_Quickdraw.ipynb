{
  "nbformat": 4,
  "nbformat_minor": 0,
  "metadata": {
    "colab": {
      "name": "Evaluating baseline on Quickdraw.ipynb",
      "provenance": [],
      "collapsed_sections": [
        "HPKlx_fM_RbJ"
      ]
    },
    "kernelspec": {
      "name": "python3",
      "display_name": "Python 3"
    },
    "language_info": {
      "name": "python"
    },
    "accelerator": "GPU"
  },
  "cells": [
    {
      "cell_type": "markdown",
      "source": [
        "\n",
        "# Setup"
      ],
      "metadata": {
        "id": "HPKlx_fM_RbJ"
      }
    },
    {
      "cell_type": "code",
      "source": [
        "! git clone https://github.com/AmarCodes-22/Skribbl-bot.git"
      ],
      "metadata": {
        "colab": {
          "base_uri": "https://localhost:8080/"
        },
        "id": "rQhKLH_OALR_",
        "outputId": "0fec9f83-434f-4572-ab1a-ea658ccad5e8"
      },
      "execution_count": 1,
      "outputs": [
        {
          "output_type": "stream",
          "name": "stdout",
          "text": [
            "Cloning into 'Skribbl-bot'...\n",
            "remote: Enumerating objects: 84, done.\u001b[K\n",
            "remote: Counting objects: 100% (84/84), done.\u001b[K\n",
            "remote: Compressing objects: 100% (60/60), done.\u001b[K\n",
            "remote: Total 84 (delta 29), reused 70 (delta 15), pack-reused 0\u001b[K\n",
            "Unpacking objects: 100% (84/84), done.\n"
          ]
        }
      ]
    },
    {
      "cell_type": "code",
      "source": [
        "import sys\n",
        "sys.path.append('/content/Skribbl-bot')"
      ],
      "metadata": {
        "id": "7z1OD9clB7G9"
      },
      "execution_count": 2,
      "outputs": []
    },
    {
      "cell_type": "code",
      "source": [
        "# ! pip install -r /content/Skribbl-bot/requirements.txt\n",
        "! pip install cairocffi"
      ],
      "metadata": {
        "colab": {
          "base_uri": "https://localhost:8080/"
        },
        "id": "RnHSF-1kCS7E",
        "outputId": "bd015ab1-3dc6-46a2-c003-2a402824dee2"
      },
      "execution_count": 3,
      "outputs": [
        {
          "output_type": "stream",
          "name": "stdout",
          "text": [
            "Collecting cairocffi\n",
            "  Downloading cairocffi-1.3.0.tar.gz (88 kB)\n",
            "\u001b[?25l\r\u001b[K     |███▊                            | 10 kB 29.0 MB/s eta 0:00:01\r\u001b[K     |███████▍                        | 20 kB 22.8 MB/s eta 0:00:01\r\u001b[K     |███████████                     | 30 kB 9.9 MB/s eta 0:00:01\r\u001b[K     |██████████████▊                 | 40 kB 8.6 MB/s eta 0:00:01\r\u001b[K     |██████████████████▌             | 51 kB 4.6 MB/s eta 0:00:01\r\u001b[K     |██████████████████████▏         | 61 kB 5.4 MB/s eta 0:00:01\r\u001b[K     |█████████████████████████▉      | 71 kB 5.5 MB/s eta 0:00:01\r\u001b[K     |█████████████████████████████▌  | 81 kB 6.2 MB/s eta 0:00:01\r\u001b[K     |████████████████████████████████| 88 kB 4.0 MB/s \n",
            "\u001b[?25hRequirement already satisfied: cffi>=1.1.0 in /usr/local/lib/python3.7/dist-packages (from cairocffi) (1.15.0)\n",
            "Requirement already satisfied: pycparser in /usr/local/lib/python3.7/dist-packages (from cffi>=1.1.0->cairocffi) (2.21)\n",
            "Building wheels for collected packages: cairocffi\n",
            "  Building wheel for cairocffi (setup.py) ... \u001b[?25l\u001b[?25hdone\n",
            "  Created wheel for cairocffi: filename=cairocffi-1.3.0-py3-none-any.whl size=89668 sha256=0cae470f6a26c4c8de981f57c96518ffe6dec744be3ebe87af029c3c1b922067\n",
            "  Stored in directory: /root/.cache/pip/wheels/4e/ca/e1/5c8a9692a27f639a07c949044bec943f26c81cd53d3805319f\n",
            "Successfully built cairocffi\n",
            "Installing collected packages: cairocffi\n",
            "Successfully installed cairocffi-1.3.0\n"
          ]
        }
      ]
    },
    {
      "cell_type": "markdown",
      "source": [
        "# Generate cifar like dataset"
      ],
      "metadata": {
        "id": "PyhVaQRsCEF8"
      }
    },
    {
      "cell_type": "code",
      "source": [
        "from src.data.quickdraw_version import QuickdrawVersion"
      ],
      "metadata": {
        "id": "bnaXNWPuCI3s"
      },
      "execution_count": 4,
      "outputs": []
    },
    {
      "cell_type": "code",
      "source": [
        "quickdraw_version = QuickdrawVersion(\n",
        "    '/content/Skribbl-bot/resources/cifar-10.txt',\n",
        "    '/content/cifar-like-quickdraw',\n",
        "    num_images_per_class=100\n",
        ")"
      ],
      "metadata": {
        "colab": {
          "base_uri": "https://localhost:8080/"
        },
        "id": "npBhHpeNCQ6I",
        "outputId": "a09cfdf2-f6b8-4cbc-f454-6c02adfdc65c"
      },
      "execution_count": 5,
      "outputs": [
        {
          "output_type": "stream",
          "name": "stdout",
          "text": [
            "Creating directory /content/cifar-like-quickdraw\n",
            "Creating directory /content/cifar-like-quickdraw/binary\n",
            "Creating directory /content/cifar-like-quickdraw/images\n"
          ]
        }
      ]
    },
    {
      "cell_type": "code",
      "source": [
        "quickdraw_version.create_version_in_directory()"
      ],
      "metadata": {
        "colab": {
          "base_uri": "https://localhost:8080/"
        },
        "id": "_XeJ_4SDEeBE",
        "outputId": "7d952158-5f66-429e-9b44-f09f0d467193"
      },
      "execution_count": 6,
      "outputs": [
        {
          "output_type": "stream",
          "name": "stdout",
          "text": [
            "Downloading public blob full/binary/airplane.bin\n",
            "\t from bucket quickdraw_dataset\n",
            "\t to /content/cifar-like-quickdraw/binary/airplane.bin\n",
            "Downloading public blob full/binary/car.bin\n",
            "\t from bucket quickdraw_dataset\n",
            "\t to /content/cifar-like-quickdraw/binary/car.bin\n",
            "Downloading public blob full/binary/bird.bin\n",
            "\t from bucket quickdraw_dataset\n",
            "\t to /content/cifar-like-quickdraw/binary/bird.bin\n",
            "Downloading public blob full/binary/cat.bin\n",
            "\t from bucket quickdraw_dataset\n",
            "\t to /content/cifar-like-quickdraw/binary/cat.bin\n",
            "Downloading public blob full/binary/bear.bin\n",
            "\t from bucket quickdraw_dataset\n",
            "\t to /content/cifar-like-quickdraw/binary/bear.bin\n",
            "Downloading public blob full/binary/dog.bin\n",
            "\t from bucket quickdraw_dataset\n",
            "\t to /content/cifar-like-quickdraw/binary/dog.bin\n",
            "Downloading public blob full/binary/frog.bin\n",
            "\t from bucket quickdraw_dataset\n",
            "\t to /content/cifar-like-quickdraw/binary/frog.bin\n",
            "Downloading public blob full/binary/horse.bin\n",
            "\t from bucket quickdraw_dataset\n",
            "\t to /content/cifar-like-quickdraw/binary/horse.bin\n",
            "Downloading public blob full/binary/cruise ship.bin\n",
            "\t from bucket quickdraw_dataset\n",
            "\t to /content/cifar-like-quickdraw/binary/cruise ship.bin\n",
            "Downloading public blob full/binary/truck.bin\n",
            "\t from bucket quickdraw_dataset\n",
            "\t to /content/cifar-like-quickdraw/binary/truck.bin\n",
            "Creating directory /content/cifar-like-quickdraw/images/cruise ship\n",
            "Loading images for class cruise ship\n",
            "Creating directory /content/cifar-like-quickdraw/images/cat\n",
            "Loading images for class cat\n",
            "Creating directory /content/cifar-like-quickdraw/images/truck\n",
            "Loading images for class truck\n",
            "Creating directory /content/cifar-like-quickdraw/images/bear\n",
            "Loading images for class bear\n",
            "Creating directory /content/cifar-like-quickdraw/images/bird\n",
            "Loading images for class bird\n",
            "Creating directory /content/cifar-like-quickdraw/images/horse\n",
            "Loading images for class horse\n",
            "Creating directory /content/cifar-like-quickdraw/images/frog\n",
            "Loading images for class frog\n",
            "Creating directory /content/cifar-like-quickdraw/images/car\n",
            "Loading images for class car\n",
            "Creating directory /content/cifar-like-quickdraw/images/dog\n",
            "Loading images for class dog\n",
            "Creating directory /content/cifar-like-quickdraw/images/airplane\n",
            "Loading images for class airplane\n"
          ]
        }
      ]
    },
    {
      "cell_type": "code",
      "source": [
        "quickdraw_version.split_train_test(test_ratio=0.1)"
      ],
      "metadata": {
        "colab": {
          "base_uri": "https://localhost:8080/"
        },
        "id": "DGfcSVvPEu43",
        "outputId": "c516f939-11c7-41fb-bda0-f47c5d0f299a"
      },
      "execution_count": 7,
      "outputs": [
        {
          "output_type": "stream",
          "name": "stdout",
          "text": [
            "Creating directory /content/cifar-like-quickdraw/images/train\n",
            "Creating directory /content/cifar-like-quickdraw/images/test\n",
            "Creating directory /content/cifar-like-quickdraw/images/train/truck\n",
            "Creating directory /content/cifar-like-quickdraw/images/test/truck\n",
            "Creating directory /content/cifar-like-quickdraw/images/train/car\n",
            "Creating directory /content/cifar-like-quickdraw/images/test/car\n",
            "Creating directory /content/cifar-like-quickdraw/images/train/airplane\n",
            "Creating directory /content/cifar-like-quickdraw/images/test/airplane\n",
            "Creating directory /content/cifar-like-quickdraw/images/train/cruise ship\n",
            "Creating directory /content/cifar-like-quickdraw/images/test/cruise ship\n",
            "Creating directory /content/cifar-like-quickdraw/images/train/frog\n",
            "Creating directory /content/cifar-like-quickdraw/images/test/frog\n",
            "Creating directory /content/cifar-like-quickdraw/images/train/horse\n",
            "Creating directory /content/cifar-like-quickdraw/images/test/horse\n",
            "Creating directory /content/cifar-like-quickdraw/images/train/cat\n",
            "Creating directory /content/cifar-like-quickdraw/images/test/cat\n",
            "Creating directory /content/cifar-like-quickdraw/images/train/bird\n",
            "Creating directory /content/cifar-like-quickdraw/images/test/bird\n",
            "Creating directory /content/cifar-like-quickdraw/images/train/bear\n",
            "Creating directory /content/cifar-like-quickdraw/images/test/bear\n",
            "Creating directory /content/cifar-like-quickdraw/images/train/dog\n",
            "Creating directory /content/cifar-like-quickdraw/images/test/dog\n"
          ]
        }
      ]
    },
    {
      "cell_type": "markdown",
      "source": [
        "# Making Dataloaders"
      ],
      "metadata": {
        "id": "dPXuTQzJGd96"
      }
    },
    {
      "cell_type": "code",
      "source": [
        "# follow along https://pytorch.org/tutorials/beginner/transfer_learning_tutorial.html"
      ],
      "metadata": {
        "id": "j5yb-PZimfoF"
      },
      "execution_count": null,
      "outputs": []
    },
    {
      "cell_type": "code",
      "source": [
        "import copy\n",
        "import os\n",
        "import time\n",
        "\n",
        "import matplotlib.pyplot as plt\n",
        "import numpy as np\n",
        "import torch\n",
        "import torch.nn as nn\n",
        "import torch.optim as optim\n",
        "from torch.optim import lr_scheduler\n",
        "import torchvision\n",
        "from torchvision import datasets, models, transforms"
      ],
      "metadata": {
        "id": "qYAKx72xHqIn"
      },
      "execution_count": 16,
      "outputs": []
    },
    {
      "cell_type": "code",
      "source": [
        "data_transforms = {\n",
        "    'train': transforms.Compose([\n",
        "        transforms.Resize(224),\n",
        "        transforms.RandomHorizontalFlip(),\n",
        "        transforms.ToTensor(),\n",
        "        transforms.Normalize([0.485, 0.456, 0.406], [0.229, 0.224, 0.225])\n",
        "    ]),\n",
        "    'test': transforms.Compose([\n",
        "        transforms.Resize(224),\n",
        "        transforms.RandomHorizontalFlip(),\n",
        "        transforms.ToTensor(),\n",
        "        transforms.Normalize([0.485, 0.456, 0.406], [0.229, 0.224, 0.225])\n",
        "    ])\n",
        "}\n",
        "\n",
        "data_dir = '/content/cifar-like-quickdraw/images'\n",
        "\n",
        "image_datasets = {\n",
        "    x: datasets.ImageFolder(os.path.join(data_dir, x), data_transforms[x]) \n",
        "    for x in ['train', 'test']}\n",
        "\n",
        "dataloaders = {\n",
        "    x: torch.utils.data.DataLoader(image_datasets[x],\n",
        "                                   batch_size=4,\n",
        "                                   shuffle=True,\n",
        "                                   num_workers=2)\n",
        "    for x in ['train', 'test']\n",
        "}\n",
        "\n",
        "dataset_sizes = {x: len(image_datasets[x]) for x in ['train', 'test']}\n",
        "class_names = image_datasets['train'].classes\n",
        "\n",
        "device = torch.device('cuda:0' if torch.cuda.is_available() else 'cpu')"
      ],
      "metadata": {
        "id": "NdURpsWLcE6L"
      },
      "execution_count": 9,
      "outputs": []
    },
    {
      "cell_type": "code",
      "source": [
        "def imshow(inp, title=None):\n",
        "    \"\"\"Imshow for Tensor.\"\"\"\n",
        "    inp = inp.numpy().transpose((1, 2, 0))\n",
        "    mean = np.array([0.485, 0.456, 0.406])\n",
        "    std = np.array([0.229, 0.224, 0.225])\n",
        "    inp = std * inp + mean\n",
        "    inp = np.clip(inp, 0, 1)\n",
        "    plt.imshow(inp)\n",
        "    if title is not None:\n",
        "        plt.title(title)\n",
        "    plt.pause(0.001)  # pause a bit so that plots are updated\n",
        "\n",
        "\n",
        "# Get a batch of training data\n",
        "inputs, classes = next(iter(dataloaders['train']))\n",
        "\n",
        "# Make a grid from batch\n",
        "out = torchvision.utils.make_grid(inputs)\n",
        "\n",
        "imshow(out, title=[class_names[x] for x in classes])"
      ],
      "metadata": {
        "colab": {
          "base_uri": "https://localhost:8080/",
          "height": 147
        },
        "id": "Urp70nnmgw_P",
        "outputId": "b0f847bd-2fe4-44ff-cc59-878f2f21816f"
      },
      "execution_count": 10,
      "outputs": [
        {
          "output_type": "display_data",
          "data": {
            "image/png": "[encoded data removed]",
            "text/plain": [
              "<Figure size 432x288 with 1 Axes>"
            ]
          },
          "metadata": {
            "needs_background": "light"
          }
        }
      ]
    },
    {
      "cell_type": "code",
      "source": [
        "inputs, classes = next(iter(dataloaders['train']))\n",
        "inputs.shape, classes.shape"
      ],
      "metadata": {
        "colab": {
          "base_uri": "https://localhost:8080/"
        },
        "id": "9qOB67xleC30",
        "outputId": "000e0575-9cbd-449e-a78e-7726ec802102"
      },
      "execution_count": 11,
      "outputs": [
        {
          "output_type": "execute_result",
          "data": {
            "text/plain": [
              "(torch.Size([4, 3, 224, 224]), torch.Size([4]))"
            ]
          },
          "metadata": {},
          "execution_count": 11
        }
      ]
    },
    {
      "cell_type": "markdown",
      "source": [
        "# Training the model"
      ],
      "metadata": {
        "id": "ExXNIHZoeOUa"
      }
    },
    {
      "cell_type": "code",
      "source": [
        "def train_model(model, criterion, optimizer, scheduler=None, num_epochs=25):\n",
        "    since = time.time()\n",
        "\n",
        "    best_model_wts = copy.deepcopy(model.state_dict())\n",
        "    best_acc = 0.0\n",
        "\n",
        "    for epoch in range(num_epochs):\n",
        "        print('Epoch {}/{}'.format(epoch, num_epochs - 1))\n",
        "        print('-' * 10)\n",
        "\n",
        "        for phase in ['train', 'test']:\n",
        "            if phase == 'train':\n",
        "                model.train()\n",
        "            else:\n",
        "                model.eval()\n",
        "\n",
        "            running_loss = 0.0\n",
        "            running_corrects = 0.0\n",
        "\n",
        "            for inputs, labels in dataloaders[phase]:\n",
        "                inputs = inputs.to(device)\n",
        "                labels = labels.to(device)\n",
        "\n",
        "                optimizer.zero_grad()\n",
        "\n",
        "                with torch.set_grad_enabled(phase == 'train'):\n",
        "                    outputs = model(inputs)\n",
        "                    _, preds = torch.max(outputs, 1)\n",
        "                    loss = criterion(outputs, labels)\n",
        "\n",
        "                    if phase == 'train':\n",
        "                        loss.backward()\n",
        "                        optimizer.step()\n",
        "\n",
        "                running_loss += loss.item() * inputs.size(0)\n",
        "                running_corrects += torch.sum(preds == labels.data)\n",
        "            if phase == 'train':\n",
        "                # optimizer.step()\n",
        "                scheduler.step()\n",
        "\n",
        "            epoch_loss = running_loss / dataset_sizes[phase]\n",
        "            epoch_acc = running_corrects.double() / dataset_sizes[phase]\n",
        "\n",
        "            print('{} Loss: {:.4f} Acc: {:.4f}'.format(\n",
        "                phase, epoch_loss, epoch_acc))\n",
        "            \n",
        "            if phase == 'test' and epoch_acc > best_acc:\n",
        "                best_acc = epoch_acc\n",
        "                best_model_wts = copy.deepcopy(model.state_dict())\n",
        "\n",
        "            print()\n",
        "    \n",
        "    time_elapsed = time.time() - since\n",
        "    print('Training complete in {:.0f}m {:.0f}s'.format(\n",
        "        time_elapsed // 60, time_elapsed % 60))\n",
        "    print('Best val Acc: {:4f}'.format(best_acc))\n",
        "\n",
        "    model.load_state_dict(best_model_wts)\n",
        "    return model"
      ],
      "metadata": {
        "id": "_n_d1Yvqelf2"
      },
      "execution_count": 20,
      "outputs": []
    },
    {
      "cell_type": "code",
      "source": [
        "\n",
        "def visualize_model(model, num_images=6):\n",
        "    was_training = model.training\n",
        "    model.eval()\n",
        "    images_so_far = 0\n",
        "    fig = plt.figure()\n",
        "\n",
        "    with torch.no_grad():\n",
        "        for i, (inputs, labels) in enumerate(dataloaders['test']):\n",
        "            inputs = inputs.to(device)\n",
        "            labels = labels.to(device)\n",
        "\n",
        "            outputs = model(inputs)\n",
        "            _, preds = torch.max(outputs, 1)\n",
        "\n",
        "            for j in range(inputs.size()[0]):\n",
        "                images_so_far += 1\n",
        "                ax = plt.subplot(num_images//2, 2, images_so_far)\n",
        "                ax.axis('off')\n",
        "                ax.set_title('predicted: {}'.format(class_names[preds[j]]))\n",
        "                imshow(inputs.cpu().data[j])\n",
        "\n",
        "                if images_so_far == num_images:\n",
        "                    model.train(mode=was_training)\n",
        "                    return\n",
        "        model.train(mode=was_training)"
      ],
      "metadata": {
        "id": "A4TFQShegkQy"
      },
      "execution_count": 13,
      "outputs": []
    },
    {
      "cell_type": "code",
      "source": [
        "model_ft = models.resnet18(pretrained=True)\n",
        "num_features = model_ft.fc.in_features\n",
        "\n",
        "model_ft.fc = nn.Linear(num_features, 10)\n",
        "\n",
        "model_ft = model_ft.to(device)\n",
        "\n",
        "criterion = nn.CrossEntropyLoss()\n",
        "\n",
        "optimizer_ft = optim.SGD(model_ft.parameters(), lr=0.0005, momentum=0.9)\n",
        "\n",
        "exp_lr_scheduler = lr_scheduler.StepLR(optimizer_ft, step_size=7, gamma=0.1)"
      ],
      "metadata": {
        "id": "XUijlrhLhYN5"
      },
      "execution_count": 22,
      "outputs": []
    },
    {
      "cell_type": "code",
      "source": [
        "model_ft = train_model(model_ft, criterion, optimizer_ft, exp_lr_scheduler)"
      ],
      "metadata": {
        "colab": {
          "base_uri": "https://localhost:8080/"
        },
        "id": "a59u9-2yiFFl",
        "outputId": "a81f4268-c4db-4215-86ec-dd9ce8fa3957"
      },
      "execution_count": 23,
      "outputs": [
        {
          "output_type": "stream",
          "name": "stdout",
          "text": [
            "Epoch 0/24\n",
            "----------\n",
            "train Loss: 1.6966 Acc: 0.4167\n",
            "\n",
            "test Loss: 1.0260 Acc: 0.6400\n",
            "\n",
            "Epoch 1/24\n",
            "----------\n",
            "train Loss: 1.0132 Acc: 0.6800\n",
            "\n",
            "test Loss: 0.8320 Acc: 0.7100\n",
            "\n",
            "Epoch 2/24\n",
            "----------\n",
            "train Loss: 0.8432 Acc: 0.7033\n",
            "\n",
            "test Loss: 0.7814 Acc: 0.7200\n",
            "\n",
            "Epoch 3/24\n",
            "----------\n",
            "train Loss: 0.6368 Acc: 0.7800\n",
            "\n",
            "test Loss: 0.7676 Acc: 0.7100\n",
            "\n",
            "Epoch 4/24\n",
            "----------\n",
            "train Loss: 0.5295 Acc: 0.8356\n",
            "\n",
            "test Loss: 0.8866 Acc: 0.7400\n",
            "\n",
            "Epoch 5/24\n",
            "----------\n",
            "train Loss: 0.3961 Acc: 0.8800\n",
            "\n",
            "test Loss: 0.8007 Acc: 0.7500\n",
            "\n",
            "Epoch 6/24\n",
            "----------\n",
            "train Loss: 0.3704 Acc: 0.8856\n",
            "\n",
            "test Loss: 0.8802 Acc: 0.7200\n",
            "\n",
            "Epoch 7/24\n",
            "----------\n",
            "train Loss: 0.2849 Acc: 0.9156\n",
            "\n",
            "test Loss: 0.8489 Acc: 0.7200\n",
            "\n",
            "Epoch 8/24\n",
            "----------\n",
            "train Loss: 0.2132 Acc: 0.9456\n",
            "\n",
            "test Loss: 0.8028 Acc: 0.7400\n",
            "\n",
            "Epoch 9/24\n",
            "----------\n",
            "train Loss: 0.2168 Acc: 0.9522\n",
            "\n",
            "test Loss: 0.8219 Acc: 0.7500\n",
            "\n",
            "Epoch 10/24\n",
            "----------\n",
            "train Loss: 0.2017 Acc: 0.9456\n",
            "\n",
            "test Loss: 0.8000 Acc: 0.7300\n",
            "\n",
            "Epoch 11/24\n",
            "----------\n",
            "train Loss: 0.1977 Acc: 0.9556\n",
            "\n",
            "test Loss: 0.7799 Acc: 0.7700\n",
            "\n",
            "Epoch 12/24\n",
            "----------\n",
            "train Loss: 0.1824 Acc: 0.9567\n",
            "\n",
            "test Loss: 0.7928 Acc: 0.7600\n",
            "\n",
            "Epoch 13/24\n",
            "----------\n",
            "train Loss: 0.1988 Acc: 0.9544\n",
            "\n",
            "test Loss: 0.7321 Acc: 0.7900\n",
            "\n",
            "Epoch 14/24\n",
            "----------\n",
            "train Loss: 0.1463 Acc: 0.9656\n",
            "\n",
            "test Loss: 0.7871 Acc: 0.7500\n",
            "\n",
            "Epoch 15/24\n",
            "----------\n",
            "train Loss: 0.1676 Acc: 0.9689\n",
            "\n",
            "test Loss: 0.7449 Acc: 0.8000\n",
            "\n",
            "Epoch 16/24\n",
            "----------\n",
            "train Loss: 0.2275 Acc: 0.9433\n",
            "\n",
            "test Loss: 0.7660 Acc: 0.7600\n",
            "\n",
            "Epoch 17/24\n",
            "----------\n",
            "train Loss: 0.1915 Acc: 0.9522\n",
            "\n",
            "test Loss: 0.7874 Acc: 0.7700\n",
            "\n",
            "Epoch 18/24\n",
            "----------\n",
            "train Loss: 0.1638 Acc: 0.9700\n",
            "\n",
            "test Loss: 0.8070 Acc: 0.7500\n",
            "\n",
            "Epoch 19/24\n",
            "----------\n",
            "train Loss: 0.1754 Acc: 0.9544\n",
            "\n",
            "test Loss: 0.7888 Acc: 0.7600\n",
            "\n",
            "Epoch 20/24\n",
            "----------\n",
            "train Loss: 0.1348 Acc: 0.9822\n",
            "\n",
            "test Loss: 0.8143 Acc: 0.7600\n",
            "\n",
            "Epoch 21/24\n",
            "----------\n",
            "train Loss: 0.1643 Acc: 0.9611\n",
            "\n",
            "test Loss: 0.8137 Acc: 0.7500\n",
            "\n",
            "Epoch 22/24\n",
            "----------\n",
            "train Loss: 0.1787 Acc: 0.9589\n",
            "\n",
            "test Loss: 0.7896 Acc: 0.7700\n",
            "\n",
            "Epoch 23/24\n",
            "----------\n",
            "train Loss: 0.1635 Acc: 0.9667\n",
            "\n",
            "test Loss: 0.7517 Acc: 0.8100\n",
            "\n",
            "Epoch 24/24\n",
            "----------\n",
            "train Loss: 0.1719 Acc: 0.9667\n",
            "\n",
            "test Loss: 0.7913 Acc: 0.7500\n",
            "\n",
            "Training complete in 6m 9s\n",
            "Best val Acc: 0.810000\n"
          ]
        }
      ]
    },
    {
      "cell_type": "code",
      "source": [
        "visualize_model(model_ft)"
      ],
      "metadata": {
        "colab": {
          "base_uri": "https://localhost:8080/",
          "height": 581
        },
        "id": "oY3t0wsViehN",
        "outputId": "8b9f11ea-887b-4ccc-fc9c-46e04800fecf"
      },
      "execution_count": 28,
      "outputs": [
        {
          "output_type": "display_data",
          "data": {
            "image/png": "[encoded data removed]",
            "text/plain": [
              "<Figure size 432x288 with 1 Axes>"
            ]
          },
          "metadata": {
            "needs_background": "light"
          }
        },
        {
          "output_type": "display_data",
          "data": {
            "image/png": "[encoded data removed]",
            "text/plain": [
              "<Figure size 432x288 with 1 Axes>"
            ]
          },
          "metadata": {
            "needs_background": "light"
          }
        },
        {
          "output_type": "display_data",
          "data": {
            "image/png": "[encoded data removed]",
            "text/plain": [
              "<Figure size 432x288 with 1 Axes>"
            ]
          },
          "metadata": {
            "needs_background": "light"
          }
        },
        {
          "output_type": "display_data",
          "data": {
            "image/png": "[encoded data removed]",
            "text/plain": [
              "<Figure size 432x288 with 1 Axes>"
            ]
          },
          "metadata": {
            "needs_background": "light"
          }
        },
        {
          "output_type": "display_data",
          "data": {
            "image/png": "[encoded data removed]",
            "text/plain": [
              "<Figure size 432x288 with 1 Axes>"
            ]
          },
          "metadata": {
            "needs_background": "light"
          }
        },
        {
          "output_type": "display_data",
          "data": {
            "image/png": "[encoded data removed]",
            "text/plain": [
              "<Figure size 432x288 with 1 Axes>"
            ]
          },
          "metadata": {
            "needs_background": "light"
          }
        }
      ]
    },
    {
      "cell_type": "code",
      "source": [
        "torch.save(model_ft.state_dict(), '/content/resnet-finetuned.pt')"
      ],
      "metadata": {
        "id": "5JNu3Uq0nmLK"
      },
      "execution_count": 30,
      "outputs": []
    },
    {
      "cell_type": "code",
      "source": [
        ""
      ],
      "metadata": {
        "id": "dlC0acKSoJtQ"
      },
      "execution_count": null,
      "outputs": []
    }
  ]
}